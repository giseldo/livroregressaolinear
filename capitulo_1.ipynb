{
  "nbformat": 4,
  "nbformat_minor": 0,
  "metadata": {
    "colab": {
      "provenance": [],
      "authorship_tag": "ABX9TyNaRS54kYplRu4qT9KHqaV1",
      "include_colab_link": true
    },
    "kernelspec": {
      "name": "python3",
      "display_name": "Python 3"
    },
    "language_info": {
      "name": "python"
    }
  },
  "cells": [
    {
      "cell_type": "markdown",
      "metadata": {
        "id": "view-in-github",
        "colab_type": "text"
      },
      "source": [
        "<a href=\"https://colab.research.google.com/github/giseldo/livroregressaolinear/blob/main/capitulo_1.ipynb\" target=\"_parent\"><img src=\"https://colab.research.google.com/assets/colab-badge.svg\" alt=\"Open In Colab\"/></a>"
      ]
    },
    {
      "cell_type": "code",
      "execution_count": null,
      "metadata": {
        "colab": {
          "base_uri": "https://localhost:8080/"
        },
        "id": "17P9j1PpAYUD",
        "outputId": "5413ccd4-9a65-412f-de34-51224f0af79a"
      },
      "outputs": [
        {
          "output_type": "stream",
          "name": "stdout",
          "text": [
            "\n",
            "=-=-=-=-=-=- Métricas \n",
            "Acurácia do modelo :1.00\n",
            "Matriz de Confusão:\n",
            "            Predicted 0   Predicted 1\n",
            " Actual 0             1             0\n",
            " Actual 1             0             1\n",
            "Relat ó rio de Classifica ção:\n",
            "              precision  recall  f1-score  support\n",
            "0                   1.0     1.0       1.0      1.0\n",
            "1                   1.0     1.0       1.0      1.0\n",
            "accuracy            1.0     1.0       1.0      1.0\n",
            "macro avg           1.0     1.0       1.0      2.0\n",
            "weighted avg        1.0     1.0       1.0      2.0\n",
            "\n",
            "=-=-=-=-=-=- Previsão\n",
            "Previsão para a observação (X1=8 e X2=8) \n",
            "Resultado y = 1\n"
          ]
        }
      ],
      "source": [
        "import numpy as np\n",
        "import pandas as pd\n",
        "from sklearn.model_selection import train_test_split\n",
        "from sklearn.linear_model import LogisticRegression\n",
        "from sklearn.metrics import confusion_matrix , classification_report,accuracy_score\n",
        "\n",
        "# Regressão Linear em Aprendizagem de Máquina com Python 17\n",
        "\n",
        "# Dados de exemplo\n",
        "X = np . array ([[ -3 , -3] , [ -2 , -2] , [ -1 , -1] , [0 ,0] , [1 ,1] , [2 ,2] , [3 ,3] ,\n",
        "[4 ,4] , [5 ,5] , [6 ,6]])\n",
        "y = np . array ([0 , 0 , 0 , 0 , 1 , 1 , 1 , 1, 1 , 1])\n",
        "\n",
        "# Dividir os dados em conjuntos de treinamento e teste\n",
        "X_train , X_test , y_train , y_test = train_test_split (X , y , test_size =0.2 ,\n",
        "random_state =42)\n",
        "\n",
        "# Criar o modelo de regress ão log í stica\n",
        "model = LogisticRegression ()\n",
        "\n",
        "# Treinar o modelo\n",
        "model . fit ( X_train , y_train )\n",
        "\n",
        "# Previs ões no conjunto de teste\n",
        "y_pred = model . predict ( X_test )\n",
        "\n",
        "# Avaliar a precis ão do modelo\n",
        "accuracy = accuracy_score ( y_test , y_pred )\n",
        "\n",
        "# Gerar a matriz de confus ão\n",
        "conf_matrix = confusion_matrix ( y_test , y_pred )\n",
        "conf_matrix_df = pd . DataFrame ( conf_matrix , index =[\" Actual 0\", \" Actual 1\"\n",
        "] , columns =[\" Predicted 0\", \" Predicted 1\"])\n",
        "\n",
        "# Gerar o relat ório de classifica ção\n",
        "class_report = classification_report ( y_test , y_pred , output_dict = True )\n",
        "class_report_df = pd . DataFrame ( class_report ) . transpose ()\n",
        "print(\"\\n=-=-=-=-=-=- Métricas \")\n",
        "print (f\"Acurácia do modelo :{accuracy:.2f}\")\n",
        "\n",
        "print (\"Matriz de Confusão:\")\n",
        "print (conf_matrix_df)\n",
        "\n",
        "print (\"Relat ó rio de Classifica ção:\")\n",
        "print (class_report_df)\n",
        "print(\"\\n=-=-=-=-=-=- Previsão\")\n",
        "print(f\"Previsão para a observação (X1=8 e X2=8) \\nResultado y = {model.predict([[8,8]])[0]}\")\n"
      ]
    },
    {
      "cell_type": "code",
      "source": [
        "model.predict( [[8,8]])"
      ],
      "metadata": {
        "colab": {
          "base_uri": "https://localhost:8080/"
        },
        "id": "rjo6CRtaAjl7",
        "outputId": "4bc25c37-4e44-49e3-f4ff-d3c59a6d442d"
      },
      "execution_count": null,
      "outputs": [
        {
          "output_type": "execute_result",
          "data": {
            "text/plain": [
              "array([1])"
            ]
          },
          "metadata": {},
          "execution_count": 6
        }
      ]
    },
    {
      "cell_type": "code",
      "source": [],
      "metadata": {
        "id": "aoTr8XxzEecY"
      },
      "execution_count": null,
      "outputs": []
    }
  ]
}